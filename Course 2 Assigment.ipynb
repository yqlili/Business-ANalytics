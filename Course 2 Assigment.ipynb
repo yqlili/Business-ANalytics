{
 "cells": [
  {
   "cell_type": "markdown",
   "metadata": {
    "cell_id": "c940d9cffde847a49a850600d41c5ba9",
    "deepnote_cell_type": "text-cell-h1",
    "formattedRanges": [],
    "is_collapsed": false,
    "tags": []
   },
   "source": [
    "# Course&nbsp;2:&nbsp;Python&nbsp;Basics:&nbsp;From&nbsp;Zero&nbsp;to&nbsp;Heroe"
   ]
  },
  {
   "cell_type": "markdown",
   "metadata": {
    "cell_id": "4ab1e62b20e6479d80745023bb0a2e1b",
    "deepnote_cell_type": "markdown",
    "tags": []
   },
   "source": [
    "<center><img src=\"https://i.pinimg.com/236x/d2/4d/3a/d24d3aa77fcadd428a7ecd97896fa968.jpg\" width=\"150\"  title=\"Python Logo\"/></center>\n",
    "\n"
   ]
  },
  {
   "cell_type": "markdown",
   "metadata": {
    "cell_id": "9e2b2639d8aa48bfaf87214418be7841",
    "deepnote_cell_type": "markdown",
    "tags": []
   },
   "source": [
    "<div class=\"alert alert-block alert-info\">Welcome to your first real set of Python coding problems that will be marked\n",
    "\n",
    "This time the evaluation will be marked and the mark will be decompose as follow:\n",
    "- Total: the mark will be on 100%\n",
    "- Each question is worth of 10%. There is a total of 8 questions, so 80%\n",
    "- 10% of the mark will be on the cleaning of your code (explicit name for the variable, comments for each line)\n",
    "- 10% of the mark will be on the respect of the professor's instructions (work given at time, project is named correctly, project is classified is the good category, project is shared with the 2 professors)"
   ]
  },
  {
   "cell_type": "markdown",
   "metadata": {
    "cell_id": "e059c9800c1e45cc8b3b97c85c200f9c",
    "deepnote_cell_type": "markdown",
    "tags": []
   },
   "source": []
  },
  {
   "cell_type": "markdown",
   "metadata": {
    "cell_id": "dc34f47f810f42cda00cd089b1b3408f",
    "deepnote_cell_type": "markdown",
    "tags": []
   },
   "source": [
    "# 1. Question 1: A question of sign\n",
    "\n",
    "Many programming languages have [`sign`](https://en.wikipedia.org/wiki/Sign_function) available as a built-in function. Python doesn't, but we can define our own!\n",
    "\n",
    "In the cell below, define a function called `sign` which takes a numerical argument and returns -1 if it's negative, 1 if it's positive, and 0 if it's 0."
   ]
  },
  {
   "cell_type": "code",
   "execution_count": null,
   "metadata": {
    "cell_id": "fbb92f62b21e4e6ab1baee11087786a5",
    "deepnote_cell_type": "code",
    "output_cleared": true,
    "tags": []
   },
   "outputs": [],
   "source": [
    "# Start writing code here...\n"
   ]
  },
  {
   "cell_type": "markdown",
   "metadata": {
    "cell_id": "3ec18b23c6c642478dfaa643e72777f8",
    "deepnote_cell_type": "markdown",
    "tags": []
   },
   "source": [
    "You can test your code with the following sign"
   ]
  },
  {
   "cell_type": "code",
   "execution_count": null,
   "metadata": {
    "cell_id": "f0340893fbd746bd8979cddfc19bf84c",
    "deepnote_cell_type": "code",
    "output_cleared": true,
    "tags": []
   },
   "outputs": [],
   "source": [
    "# Example of Test 1\n",
    "print(sign(-10))"
   ]
  },
  {
   "cell_type": "code",
   "execution_count": null,
   "metadata": {
    "cell_id": "e5e0901fbb97420294b7754d1828a89e",
    "deepnote_cell_type": "code",
    "output_cleared": true,
    "tags": []
   },
   "outputs": [],
   "source": [
    "# Example of Test 2\n",
    "print(sign(100))"
   ]
  },
  {
   "cell_type": "markdown",
   "metadata": {
    "cell_id": "a5b4282dcb19445eac53443656867dcb",
    "deepnote_cell_type": "markdown",
    "tags": []
   },
   "source": [
    "--------"
   ]
  },
  {
   "cell_type": "markdown",
   "metadata": {
    "cell_id": "493eb084d8da41b187a05f464ea4c9ea",
    "deepnote_cell_type": "markdown",
    "tags": []
   },
   "source": [
    "# 2. Question 2: Correct the grammar\n",
    "\n",
    "We've decided to add \"logging\" to our `to_smash` function from the previous exercise."
   ]
  },
  {
   "cell_type": "code",
   "execution_count": null,
   "metadata": {
    "cell_id": "bb785f98dd704744a835bec67bd6b213",
    "deepnote_cell_type": "code",
    "deepnote_to_be_reexecuted": false,
    "execution_millis": 4,
    "execution_start": 1630961907420,
    "output_cleared": true,
    "source_hash": "bbddf1c",
    "tags": []
   },
   "outputs": [],
   "source": [
    "def to_smash(total_candies):\n",
    "    \"\"\"Return the number of leftover candies that must be smashed after distributing\n",
    "    the given number of candies evenly between 3 friends.\n",
    "    \n",
    "    >>> to_smash(91)\n",
    "    1\n",
    "    \"\"\"\n",
    "    print(\"Splitting\", total_candies, \"candies\")\n",
    "    return total_candies % 3\n",
    "\n",
    "to_smash(91)"
   ]
  },
  {
   "cell_type": "markdown",
   "metadata": {
    "cell_id": "3318a1a369674b339854b77db7599e59",
    "deepnote_cell_type": "markdown",
    "tags": []
   },
   "source": [
    "What happens if we call it with `total_candies = 1`?"
   ]
  },
  {
   "cell_type": "code",
   "execution_count": null,
   "metadata": {
    "cell_id": "f91c249a1d5b4e6998fb70fce1e1c62e",
    "deepnote_cell_type": "code",
    "deepnote_to_be_reexecuted": false,
    "execution_millis": 19,
    "execution_start": 1630961936691,
    "output_cleared": true,
    "source_hash": "9a885946",
    "tags": []
   },
   "outputs": [],
   "source": [
    "to_smash(1)"
   ]
  },
  {
   "cell_type": "markdown",
   "metadata": {
    "cell_id": "035b1804277c4e858cdb96810024583d",
    "deepnote_cell_type": "markdown",
    "tags": []
   },
   "source": [
    "That isn't great grammar!\n",
    "\n",
    "Modify the definition in the cell below to correct the grammar of our print statement. (If there's only one candy, we should use the singular \"candy\" instead of the plural \"candies\")"
   ]
  },
  {
   "cell_type": "code",
   "execution_count": null,
   "metadata": {
    "cell_id": "f80908926ef1409fb9a4920792ca593a",
    "deepnote_cell_type": "code",
    "deepnote_to_be_reexecuted": false,
    "execution_millis": 4,
    "execution_start": 1630962978272,
    "output_cleared": true,
    "source_hash": "a03c42f6",
    "tags": []
   },
   "outputs": [],
   "source": [
    "def to_smash(total_candies):\n",
    "    \"\"\"Return the number of leftover candies that must be smashed after distributing\n",
    "    the given number of candies evenly between 3 friends.\n",
    "    \n",
    "    >>> to_smash(91)\n",
    "    1\n",
    "    \"\"\"\n",
    "    # Start correcting code here...\n",
    "    print(\"Splitting\", total_candies, \"candies\")\n",
    "    return total_candies % 3\n",
    "\n",
    "to_smash(91)\n",
    "to_smash(1)"
   ]
  },
  {
   "cell_type": "markdown",
   "metadata": {
    "cell_id": "692e691bfa594527bfaf524cab993f5e",
    "deepnote_cell_type": "markdown",
    "tags": []
   },
   "source": [
    "--------"
   ]
  },
  {
   "cell_type": "markdown",
   "metadata": {
    "cell_id": "7ace2ab94ff9428fb4674d2d467e2f63",
    "deepnote_cell_type": "markdown",
    "tags": []
   },
   "source": [
    "# 3. Question 3: Second element of a list\n",
    "\n",
    "Complete the function below according to its docstring."
   ]
  },
  {
   "cell_type": "code",
   "execution_count": null,
   "metadata": {
    "cell_id": "452ba3841c2d436190b090f71708d998",
    "deepnote_cell_type": "code",
    "deepnote_to_be_reexecuted": false,
    "execution_millis": 5,
    "execution_start": 1630962169487,
    "output_cleared": true,
    "source_hash": "a8124104",
    "tags": []
   },
   "outputs": [],
   "source": [
    "def select_second(L):\n",
    "    \"\"\"Return the second element of the given list. If the list has no second\n",
    "    element, return None.\n",
    "    \"\"\"\n",
    "    # Start writing code here...\n",
    "    "
   ]
  },
  {
   "cell_type": "markdown",
   "metadata": {
    "cell_id": "42b197dc867d44fd89932f961d9cafce",
    "deepnote_cell_type": "markdown",
    "tags": []
   },
   "source": [
    "Let's test your code"
   ]
  },
  {
   "cell_type": "code",
   "execution_count": null,
   "metadata": {
    "cell_id": "16dd58cd22e14924a21e97c38d83a5e2",
    "deepnote_cell_type": "code",
    "output_cleared": true,
    "tags": []
   },
   "outputs": [],
   "source": [
    "# Test 1\n",
    "# Define a test list\n",
    "list_test1 = [\"R\", \"Python\", \"Matlab\", \"Java\", \"C++\"]\n",
    "# Print the result in the console\n",
    "print(select_second(list_test1))"
   ]
  },
  {
   "cell_type": "code",
   "execution_count": null,
   "metadata": {
    "cell_id": "af940f0f7a9e4812b59dba6bcae9a10a",
    "deepnote_cell_type": "code",
    "output_cleared": true,
    "tags": []
   },
   "outputs": [],
   "source": [
    "# Test 2\n",
    "# Define a test list\n",
    "list_test2 = [\"Tableau\", \"Power BI\", \"Qlik\", \"Data Studio\", \"Looker\"]\n",
    "# Print the result in the console\n",
    "print(select_second(list_test1))"
   ]
  },
  {
   "cell_type": "markdown",
   "metadata": {
    "cell_id": "fedc87277177471ba99ae6210ce1c1a9",
    "deepnote_cell_type": "markdown",
    "tags": []
   },
   "source": [
    "--------"
   ]
  },
  {
   "cell_type": "markdown",
   "metadata": {
    "cell_id": "23424c2fe0054d8190dc2a20346608d4",
    "deepnote_cell_type": "markdown",
    "tags": []
   },
   "source": [
    "# 4. Question 4: Select the Captain\n",
    "\n",
    "You are analyzing sports teams.  Members of each team are stored in a list. The Coach is the first name in the list, the captain is the second name in the list, and other players are listed after that. \n",
    "These lists are stored in another list, which starts with the best team and proceeds through the list to the worst team last.  Complete the function below to select the **captain** of the worst team."
   ]
  },
  {
   "cell_type": "code",
   "execution_count": null,
   "metadata": {
    "cell_id": "338d944a3fc64b6fbc473a57f09d5dcc",
    "deepnote_cell_type": "code",
    "deepnote_to_be_reexecuted": false,
    "execution_millis": 3,
    "execution_start": 1630962989704,
    "output_cleared": true,
    "source_hash": "95d20c4",
    "tags": []
   },
   "outputs": [],
   "source": [
    "def losing_team_captain(teams):\n",
    "    \"\"\"Given a list of teams, where each team is a list of names, return the 2nd player (captain)\n",
    "    from the last listed team\n",
    "    \"\"\"\n",
    "    # Start writing code here..."
   ]
  },
  {
   "cell_type": "markdown",
   "metadata": {
    "cell_id": "9227e3ccea734761be7a79118c264988",
    "deepnote_cell_type": "markdown",
    "tags": []
   },
   "source": [
    "Let's test your code"
   ]
  },
  {
   "cell_type": "code",
   "execution_count": null,
   "metadata": {
    "cell_id": "50aa809e15cb437db8dd81ef7e748029",
    "deepnote_cell_type": "code",
    "output_cleared": true,
    "tags": []
   },
   "outputs": [],
   "source": [
    "# Test 1\n",
    "list_team = [\n",
    "            [\"Albert\", \"Adolphe\", \"Aras\", \"Amat\"],\n",
    "            [\"Bertrand\", \"Benedict\", \"Bouth\", \"Banath\"],\n",
    "            [\"Cedric\", \"Charlotte\", \"Charles\", \"Cyphil\"]\n",
    "            ]\n",
    "# Print the results\n",
    "print(losing_team_captain(list_team))"
   ]
  },
  {
   "cell_type": "markdown",
   "metadata": {
    "cell_id": "3ae48b805e3e4b2387f29a0b0ba73f33",
    "deepnote_cell_type": "markdown",
    "tags": []
   },
   "source": [
    "--------"
   ]
  },
  {
   "cell_type": "markdown",
   "metadata": {
    "cell_id": "24fdd8b5e9bc4bd2ab6246983d505ff2",
    "deepnote_cell_type": "markdown",
    "tags": []
   },
   "source": [
    "# 5. Question 5: When Mario encounter Python\n",
    "\n",
    "The next iteration of Mario Kart will feature an extra-infuriating new item, the *Purple Shell*. When used, it warps the last place racer into first place and the first place racer into last place. Complete the function below to implement the Purple Shell's effect."
   ]
  },
  {
   "cell_type": "code",
   "execution_count": null,
   "metadata": {
    "cell_id": "d6388afdb70c46bba6b07e82253f4a61",
    "deepnote_cell_type": "code",
    "deepnote_to_be_reexecuted": false,
    "execution_millis": 6,
    "execution_start": 1630962992230,
    "output_cleared": true,
    "source_hash": "383c4bc1",
    "tags": []
   },
   "outputs": [],
   "source": [
    "def purple_shell(racers):\n",
    "    \"\"\"Given a list of racers, set the first place racer (at the front of the list) to last\n",
    "    place and vice versa.\n",
    "    \n",
    "    >>> r = [\"Mario\", \"Bowser\", \"Luigi\"]\n",
    "    >>> purple_shell(r)\n",
    "    >>> r\n",
    "    [\"Luigi\", \"Bowser\", \"Mario\"]\n",
    "    \"\"\"\n",
    "    # Start writing code here...\n"
   ]
  },
  {
   "cell_type": "markdown",
   "metadata": {
    "cell_id": "44f3d9e4f19d4361b7c860e86c72418b",
    "deepnote_cell_type": "markdown",
    "tags": []
   },
   "source": [
    "Now your turn to write your own test"
   ]
  },
  {
   "cell_type": "code",
   "execution_count": null,
   "metadata": {
    "cell_id": "f21e54aba35c46c4a31d0b03af23b524",
    "deepnote_cell_type": "code",
    "deepnote_to_be_reexecuted": false,
    "execution_millis": 3,
    "execution_start": 1630965574152,
    "output_cleared": true,
    "source_hash": "3bd5fbb3",
    "tags": []
   },
   "outputs": [],
   "source": [
    "# Start writing code here...\n"
   ]
  },
  {
   "cell_type": "markdown",
   "metadata": {
    "cell_id": "ec88d220bf0d47fa8942ac4c5a9bdd66",
    "deepnote_cell_type": "markdown",
    "tags": []
   },
   "source": [
    "--------"
   ]
  },
  {
   "cell_type": "markdown",
   "metadata": {
    "cell_id": "7a5684391e1946279f044baf04dff321",
    "deepnote_cell_type": "markdown",
    "tags": []
   },
   "source": [
    "# 6. Question 6: Greater than ...\n",
    "Look at the Python expression below. What do you think we'll get when we run it? When you've made your prediction, uncomment the code and run the cell to see if you were right."
   ]
  },
  {
   "cell_type": "code",
   "execution_count": null,
   "metadata": {
    "cell_id": "0a0510a7d0de45fabc7d3e3af159d9ae",
    "deepnote_cell_type": "code",
    "deepnote_to_be_reexecuted": false,
    "execution_millis": 0,
    "execution_start": 1630962507272,
    "output_cleared": true,
    "source_hash": "b206d867",
    "tags": []
   },
   "outputs": [],
   "source": [
    "#[1, 2, 3, 4] > 2"
   ]
  },
  {
   "cell_type": "markdown",
   "metadata": {
    "cell_id": "d472506596914fc78a20e75f1cc26492",
    "deepnote_cell_type": "markdown",
    "tags": []
   },
   "source": [
    "R and Python have some libraries (like numpy and pandas) compare each element of the list to 2 (i.e. do an 'element-wise' comparison) and give us a list of booleans like [False, False, True, True].\n",
    "\n",
    "Implement a function that reproduces this behaviour, returning a list of booleans corresponding to whether the corresponding element is greater than n."
   ]
  },
  {
   "cell_type": "code",
   "execution_count": null,
   "metadata": {
    "cell_id": "d4deb16ad0804ba2b790739b6b634275",
    "deepnote_cell_type": "code",
    "deepnote_to_be_reexecuted": false,
    "execution_millis": 2,
    "execution_start": 1630962996410,
    "output_cleared": true,
    "source_hash": "e2227b9c",
    "tags": []
   },
   "outputs": [],
   "source": [
    "def elementwise_greater_than(L, thresh):\n",
    "    \"\"\"Return a list with the same length as L, where the value at index i is \n",
    "    True if L[i] is greater than thresh, and False otherwise.\n",
    "    \n",
    "    >>> elementwise_greater_than([1, 2, 3, 4], 2)\n",
    "    [False, False, True, True]\n",
    "    \"\"\"\n",
    "    # Start writing code here...\n"
   ]
  },
  {
   "cell_type": "markdown",
   "metadata": {
    "cell_id": "33fe34d0b58e4493bb11b53d0b713f69",
    "deepnote_cell_type": "markdown",
    "tags": []
   },
   "source": [
    "Now your turn to write your own test"
   ]
  },
  {
   "cell_type": "code",
   "execution_count": null,
   "metadata": {
    "cell_id": "d4331da408644011ac9c088e05d8bbcc",
    "deepnote_cell_type": "code",
    "deepnote_to_be_reexecuted": false,
    "execution_millis": 1,
    "execution_start": 1630965611478,
    "output_cleared": true,
    "source_hash": "3bd5fbb3",
    "tags": []
   },
   "outputs": [],
   "source": [
    "# Start writing code here...\n"
   ]
  },
  {
   "cell_type": "markdown",
   "metadata": {
    "cell_id": "8ab5d957dd5a4601b21c6a44579ba43b",
    "deepnote_cell_type": "markdown",
    "tags": []
   },
   "source": [
    "--------"
   ]
  },
  {
   "cell_type": "markdown",
   "metadata": {
    "cell_id": "1ac2049f81774b2981e90ff002e48007",
    "deepnote_cell_type": "markdown",
    "tags": []
   },
   "source": [
    "# 7. Question 7: Valid zip code\n",
    "\n",
    "There is a saying that \"Data scientists spend 80% of their time cleaning data, and 20% of their time complaining about cleaning data.\" Let's see if you can write a function to help clean FR zip code data. Given a string, it should return whether or not that string represents a valid zip code. For our purposes, a valid zip code is any string consisting of exactly 5 digits.\n",
    "\n",
    "HINT: `str` has a method that will be useful here. Use `help(str)` to review a list of string methods."
   ]
  },
  {
   "cell_type": "code",
   "execution_count": null,
   "metadata": {
    "cell_id": "02b913c42ae145e9b59f4d2c8cf4b0fa",
    "deepnote_cell_type": "code",
    "deepnote_to_be_reexecuted": false,
    "execution_millis": 2,
    "execution_start": 1630962999934,
    "output_cleared": true,
    "source_hash": "5394894e",
    "tags": []
   },
   "outputs": [],
   "source": [
    "def is_valid_zip(zip_code):\n",
    "    \"\"\"Returns whether the input string is a valid (5 digit) zip code\n",
    "    \"\"\"\n",
    "    # Start writing code here...\n"
   ]
  },
  {
   "cell_type": "markdown",
   "metadata": {
    "cell_id": "4e26489249df4a01812a72a9b14dabd5",
    "deepnote_cell_type": "markdown",
    "tags": []
   },
   "source": [
    "Now your turn to write your own test (test with right and wrong zip code !!)"
   ]
  },
  {
   "cell_type": "code",
   "execution_count": null,
   "metadata": {
    "cell_id": "9d18365baf3145de94d074a3946d961b",
    "deepnote_cell_type": "code",
    "deepnote_to_be_reexecuted": false,
    "execution_millis": 0,
    "execution_start": 1630965632800,
    "output_cleared": true,
    "source_hash": "3bd5fbb3",
    "tags": []
   },
   "outputs": [],
   "source": [
    "# Start writing code here...\n"
   ]
  },
  {
   "cell_type": "markdown",
   "metadata": {
    "cell_id": "c174a5b63568444d878d2c34619fffa5",
    "deepnote_cell_type": "markdown",
    "tags": []
   },
   "source": [
    "--------"
   ]
  },
  {
   "cell_type": "markdown",
   "metadata": {
    "cell_id": "449763a5fcb240c980b767c5666d26a9",
    "deepnote_cell_type": "markdown",
    "tags": []
   },
   "source": [
    "# 8. Question 8: Let's do some research\n",
    "\n",
    "A researcher has gathered thousands of news articles. But she wants to focus her attention on articles including a specific word. Complete the function below to help her filter her list of articles.\n",
    "\n",
    "Your function should meet the following criteria:\n",
    "\n",
    "- Do not include documents where the keyword string shows up only as a part of a larger word. For example, if she were looking for the keyword “closed”, you would not include the string “enclosed.” \n",
    "- She does not want you to distinguish upper case from lower case letters. So the phrase “Closed the case.” would be included when the keyword is “closed”\n",
    "- Do not let periods or commas affect what is matched. “It is closed.” would be included when the keyword is “closed”. But you can assume there are no other types of punctuation."
   ]
  },
  {
   "cell_type": "code",
   "execution_count": null,
   "metadata": {
    "cell_id": "eba370d8e6dd49cb9f313d905661b3d9",
    "deepnote_cell_type": "code",
    "deepnote_to_be_reexecuted": false,
    "execution_millis": 0,
    "execution_start": 1630963180800,
    "output_cleared": true,
    "source_hash": "e1eb6b13",
    "tags": []
   },
   "outputs": [],
   "source": [
    "def word_search(doc_list, keyword):\n",
    "    \"\"\"\n",
    "    Takes a list of documents (each document is a string) and a keyword. \n",
    "    Returns list of the index values into the original list for all documents \n",
    "    containing the keyword.\n",
    "\n",
    "    Example:\n",
    "    doc_list = [\"The Learn Python Challenge Casino.\", \"They bought a car\", \"Casinoville\"]\n",
    "    >>> word_search(doc_list, 'casino')\n",
    "    >>> [0]\n",
    "    \"\"\"\n",
    "    # Start writing code here...\n"
   ]
  },
  {
   "cell_type": "markdown",
   "metadata": {
    "cell_id": "82d213aef3e54b9dae8f59ebda291aa1",
    "deepnote_cell_type": "markdown",
    "tags": []
   },
   "source": [
    "Now your turn to write your own test"
   ]
  },
  {
   "cell_type": "code",
   "execution_count": null,
   "metadata": {
    "cell_id": "441e9bcb480944ff9deb219a89e1d61e",
    "deepnote_cell_type": "code",
    "deepnote_to_be_reexecuted": false,
    "execution_millis": 1,
    "execution_start": 1630965670158,
    "output_cleared": true,
    "source_hash": "3bd5fbb3",
    "tags": []
   },
   "outputs": [],
   "source": [
    "# Start writing code here...\n"
   ]
  },
  {
   "cell_type": "markdown",
   "metadata": {
    "created_in_deepnote_cell": true,
    "deepnote_cell_type": "markdown"
   },
   "source": [
    "<a style='text-decoration:none;line-height:16px;display:flex;color:#5B5B62;padding:10px;justify-content:end;' href='https://deepnote.com?utm_source=created-in-deepnote-cell&projectId=bfce7293-4b15-4587-ad89-d29a21093abf' target=\"_blank\">\n",
    "<img alt='Created in deepnote.com' style='display:inline;max-height:16px;margin:0px;margin-right:7.5px;' src='data:image/svg+xml;base64,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' > </img>\n",
    "Created in <span style='font-weight:600;margin-left:4px;'>Deepnote</span></a>"
   ]
  }
 ],
 "metadata": {
  "deepnote": {
   "is_reactive": false
  },
  "deepnote_execution_queue": [],
  "deepnote_notebook_id": "1a718264ac3c48d68fb023f5892753e1",
  "kernelspec": {
   "display_name": "Python 3 (ipykernel)",
   "language": "python",
   "name": "python3"
  },
  "language_info": {
   "codemirror_mode": {
    "name": "ipython",
    "version": 3
   },
   "file_extension": ".py",
   "mimetype": "text/x-python",
   "name": "python",
   "nbconvert_exporter": "python",
   "pygments_lexer": "ipython3",
   "version": "3.9.12"
  }
 },
 "nbformat": 4,
 "nbformat_minor": 1
}
