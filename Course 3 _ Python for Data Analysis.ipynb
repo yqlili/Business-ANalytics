{
 "cells": [
  {
   "cell_type": "markdown",
   "metadata": {
    "cell_id": "dd4efb6c0be44e7b8fa5a4c56ea85e77",
    "deepnote_cell_type": "markdown",
    "tags": []
   },
   "source": [
    "# Course 3: Python - Data Manipulation & ETL\n",
    "\n",
    "Objectives: In this course and notebook, the objective will be for you to be able to load, manipulate and export a dataset. All of these operations are commonly named ETL (Extract, Transform and Load). ETL is a very important process in Data project and can sometimes takes up to 80% of the time of a project..\n",
    "\n",
    "At the end of this course, you will be able to:\n",
    "- **EXTRACT**: Load data from multiples sources: Flat files (Excel, CSV, etc.) and Databases (MSSQL)\n",
    "- **TRANSFORM**: Realize simple and advanced manipulation of the data covering concatenating, merging, standardize, encode a dataset\n",
    "- **LOAD**: Export your data in multiple format (Excel, CSV)\n",
    "\n",
    "<center><img src=\"https://docs.microsoft.com/fr-fr/azure/architecture/data-guide/images/etl.png\" title=\"Python Logo\" width = 600/></center>"
   ]
  },
  {
   "cell_type": "markdown",
   "metadata": {
    "cell_id": "fb297e143d1840e39c6a9090d0c526a8",
    "deepnote_cell_type": "text-cell-h1",
    "formattedRanges": [],
    "is_collapsed": false,
    "tags": []
   },
   "source": [
    "# 0 - Presentation of the case study"
   ]
  },
  {
   "cell_type": "markdown",
   "metadata": {
    "cell_id": "f55109d19e6f4e71807825cf7f359164",
    "deepnote_cell_type": "markdown",
    "tags": []
   },
   "source": [
    "You will be working for the Head of Operation of a big company that sales online Clothes for People. They would like to make an analysis of their Sales in order to extract meaninful insight that could help the marketing department to imagine new strategies for expanding their Asian market.\n",
    "\n",
    "The DSI sent you all the data:\n",
    "- The Sales Tables that were given in 3 parts (because the file was too large)\n",
    "- The Client Table containing all the client information\n",
    "- A reference table given the country and their associated continent\n",
    "\n",
    "Below you can find a representation of data that were sent. <br>\n",
    "\n",
    "<center><a href=\"https://ibb.co/YBr8Ggv\"><img src=\"https://i.ibb.co/PGS48kB/Case-Study.png\" alt=\"Case-Study\" border=\"0\"></a></center>"
   ]
  },
  {
   "cell_type": "markdown",
   "metadata": {
    "cell_id": "d660aef1a6824a7aaf39c82eab35a448",
    "deepnote_cell_type": "markdown",
    "tags": []
   },
   "source": [
    "<div class=\"alert alert-success\" role=\"alert\">\n",
    "<b>OBJECTIVE: You have asked and charged to clean the data in order to proceed to the next analysis steps</b>\n",
    "</div>"
   ]
  },
  {
   "cell_type": "markdown",
   "metadata": {
    "cell_id": "1ddc8a3267ec4d1d9e964c8f8a9b6ae9",
    "deepnote_cell_type": "text-cell-h1",
    "formattedRanges": [],
    "is_collapsed": false,
    "tags": []
   },
   "source": [
    "# 1 - Loading Data"
   ]
  },
  {
   "cell_type": "markdown",
   "metadata": {
    "cell_id": "a213600aa30a4a57a7ffd82642682550",
    "deepnote_cell_type": "markdown",
    "tags": []
   },
   "source": [
    "You can find all the references at this link : https://pandas.pydata.org/pandas-docs/stable/reference/io.html#"
   ]
  },
  {
   "cell_type": "markdown",
   "metadata": {
    "cell_id": "0f50cf87a076479295e77cef3b3c2134",
    "deepnote_cell_type": "markdown",
    "tags": []
   },
   "source": [
    "<div class=\"alert alert-block alert-info\">\n",
    "<b><p style=\"color:red;\">Exercice 0 : Install and import the pandas library</p></b>\n"
   ]
  },
  {
   "cell_type": "code",
   "execution_count": null,
   "metadata": {
    "cell_id": "8497066a32944924907ea2a0b7c8af94",
    "deepnote_cell_type": "code",
    "deepnote_to_be_reexecuted": false,
    "execution_millis": 3074,
    "execution_start": 1632226420933,
    "output_cleared": true,
    "source_hash": "f5ee97b6",
    "tags": []
   },
   "outputs": [],
   "source": [
    "# Write your code here\n",
    "\n"
   ]
  },
  {
   "cell_type": "code",
   "execution_count": null,
   "metadata": {
    "cell_id": "9af016c255c34d10863e91f6d23e6653",
    "deepnote_cell_type": "code",
    "deepnote_to_be_reexecuted": false,
    "execution_millis": 5,
    "execution_start": 1632226424015,
    "output_cleared": true,
    "source_hash": "eb831568",
    "tags": []
   },
   "outputs": [],
   "source": [
    "# Write your code here\n",
    "\n"
   ]
  },
  {
   "cell_type": "code",
   "execution_count": null,
   "metadata": {
    "cell_id": "e7892d8f11674f51a88ec44a3a914479",
    "deepnote_cell_type": "code",
    "deepnote_to_be_reexecuted": false,
    "execution_millis": 20,
    "execution_start": 1632226425372,
    "output_cleared": true,
    "source_hash": "3a5c2386",
    "tags": []
   },
   "outputs": [],
   "source": [
    "data_movie = [[\"Mission Impossible\", 8.9], [\"Roi Lion\", 7.6], [\"Mad Max\", 6]]\n",
    "df_movie = pd.DataFrame(data_movie, columns = [\"movie\", \"rating\"])\n",
    "print(df_movie)"
   ]
  },
  {
   "cell_type": "markdown",
   "metadata": {
    "cell_id": "f69cd78b492d4244b5068858bfbf9226",
    "deepnote_cell_type": "text-cell-h2",
    "formattedRanges": [],
    "is_collapsed": false,
    "tags": []
   },
   "source": [
    "## 1.1 Loading from flat files"
   ]
  },
  {
   "cell_type": "markdown",
   "metadata": {
    "cell_id": "ba5cdb318e224ab2bd26367b4637e8a3",
    "deepnote_cell_type": "markdown",
    "tags": []
   },
   "source": [
    "<div class=\"alert alert-block alert-info\">\n",
    "<b><p style=\"color:red;\">Exercice 1 : Load the data from the Excel file</p></b>\n",
    "You will need the function <b>pandas.read_excel</b> : <a href=\"https://pandas.pydata.org/pandas-docs/stable/reference/api/pandas.read_excel.html\">https://pandas.pydata.org/pandas-docs/stable/reference/api/pandas.read_excel.html</a>"
   ]
  },
  {
   "cell_type": "code",
   "execution_count": null,
   "metadata": {
    "cell_id": "d485cce1c8164714a458e421dbbb025a",
    "deepnote_cell_type": "code",
    "deepnote_to_be_reexecuted": false,
    "execution_millis": 907,
    "execution_start": 1632226426521,
    "is_code_hidden": false,
    "output_cleared": true,
    "source_hash": "12b48b10",
    "tags": []
   },
   "outputs": [],
   "source": [
    "# Write your code here\n",
    "\n"
   ]
  },
  {
   "cell_type": "markdown",
   "metadata": {
    "cell_id": "caccb687146f4c0280dff02793e2428e",
    "deepnote_cell_type": "markdown",
    "tags": []
   },
   "source": [
    "🔴IMPORTANT❗🔴 It is always a good practice to look at your imported data so that there are not any issues 😉\n",
    "So let's do a print of our dataframe"
   ]
  },
  {
   "cell_type": "code",
   "execution_count": null,
   "metadata": {
    "allow_embed": "output",
    "cell_id": "80bbc5cf5d8146ef9d0af7aa62bf0788",
    "deepnote_cell_type": "code",
    "deepnote_to_be_reexecuted": false,
    "execution_millis": 99,
    "execution_start": 1632226429528,
    "is_output_hidden": false,
    "output_cleared": true,
    "source_hash": "927c06a4",
    "tags": []
   },
   "outputs": [],
   "source": [
    "# Write your code here\n",
    "\n",
    "\n"
   ]
  },
  {
   "cell_type": "markdown",
   "metadata": {
    "cell_id": "d92c69e5e7214198a1284cb0fe659b5e",
    "deepnote_cell_type": "markdown",
    "tags": []
   },
   "source": [
    "<div class=\"alert alert-block alert-info\">\n",
    "<b><p style=\"color:red;\">Exercice 1bis : Read the first 10, 20 and 50 records</p></b>"
   ]
  },
  {
   "cell_type": "code",
   "execution_count": null,
   "metadata": {
    "cell_id": "2abbd417876b4339a04fa689c05a86ae",
    "deepnote_cell_type": "code",
    "deepnote_to_be_reexecuted": false,
    "execution_millis": 9,
    "execution_start": 1632226430005,
    "output_cleared": true,
    "source_hash": "9aed517a",
    "tags": []
   },
   "outputs": [],
   "source": [
    "# Write your code here\n",
    "\n"
   ]
  },
  {
   "cell_type": "markdown",
   "metadata": {
    "cell_id": "a93a8353201f4c55ba05fac2583c2364",
    "deepnote_cell_type": "markdown",
    "tags": []
   },
   "source": [
    "<div class=\"alert alert-block alert-info\">\n",
    "<b><p style=\"color:red;\">Exercice 1ter : Can you guess how to view the last few records ?</p></b>"
   ]
  },
  {
   "cell_type": "code",
   "execution_count": null,
   "metadata": {
    "cell_id": "31100ff781d542f59cb9c9d77661593b",
    "deepnote_cell_type": "code",
    "deepnote_to_be_reexecuted": false,
    "execution_millis": 11,
    "execution_start": 1632226431429,
    "output_cleared": true,
    "source_hash": "97f34190",
    "tags": []
   },
   "outputs": [],
   "source": [
    "# Write your code here\n"
   ]
  },
  {
   "cell_type": "markdown",
   "metadata": {
    "cell_id": "49b354563bb0445285c422925e51d92b",
    "deepnote_cell_type": "markdown",
    "tags": []
   },
   "source": [
    "<div class=\"alert alert-block alert-info\">\n",
    "<b><p style=\"color:red;\">Exercice 2 : Load the data from the csv file</p></b>\n",
    "You will need the function <b>pandas.read_csv</b> : <a href=\"https://pandas.pydata.org/pandas-docs/stable/reference/api/pandas.read_csv.html#pandas.read_csv\">https://pandas.pydata.org/pandas-docs/stable/reference/api/pandas.read_csv.html#pandas.read_csv</a>\n"
   ]
  },
  {
   "cell_type": "code",
   "execution_count": null,
   "metadata": {
    "cell_id": "3bebd936605f4a27bf83779c6dc4dfc4",
    "deepnote_cell_type": "code",
    "deepnote_to_be_reexecuted": false,
    "execution_millis": 29,
    "execution_start": 1632226432241,
    "output_cleared": true,
    "source_hash": "e91c7510",
    "tags": []
   },
   "outputs": [],
   "source": [
    "# Write your code here\n",
    "\n"
   ]
  },
  {
   "cell_type": "markdown",
   "metadata": {
    "cell_id": "10fe257565e141c6b875f9cb98f5790e",
    "deepnote_cell_type": "markdown",
    "tags": []
   },
   "source": [
    "🔴IMPORTANT❗🔴 Do not forget to look at your data !"
   ]
  },
  {
   "cell_type": "code",
   "execution_count": null,
   "metadata": {
    "cell_id": "0dfaa5093f004e7fbf75139f5a2cd558",
    "deepnote_cell_type": "code",
    "deepnote_to_be_reexecuted": false,
    "execution_millis": 9,
    "execution_start": 1632226433349,
    "is_output_hidden": false,
    "output_cleared": true,
    "source_hash": "844b2274",
    "tags": []
   },
   "outputs": [],
   "source": [
    "# Write your code here Sales Part 1\n"
   ]
  },
  {
   "cell_type": "code",
   "execution_count": null,
   "metadata": {
    "cell_id": "d0af99d462c7453d9a851b40d6767638",
    "deepnote_cell_type": "code",
    "deepnote_to_be_reexecuted": false,
    "execution_millis": 10,
    "execution_start": 1632226433638,
    "is_output_hidden": false,
    "output_cleared": true,
    "source_hash": "488a8867",
    "tags": []
   },
   "outputs": [],
   "source": [
    "# Write your code here Sales Part 2\n",
    "\n"
   ]
  },
  {
   "cell_type": "code",
   "execution_count": null,
   "metadata": {
    "cell_id": "7e6c9846993b4662b01a2f7542c6ff67",
    "deepnote_cell_type": "code",
    "deepnote_to_be_reexecuted": false,
    "execution_millis": 30,
    "execution_start": 1632226434106,
    "is_output_hidden": false,
    "output_cleared": true,
    "source_hash": "6f9a98a3",
    "tags": []
   },
   "outputs": [],
   "source": [
    "# Write your code here Sales Part 3\n"
   ]
  },
  {
   "cell_type": "markdown",
   "metadata": {
    "cell_id": "016e8ff95e1540c78154e7d647a8a6b7",
    "deepnote_cell_type": "text-cell-h2",
    "formattedRanges": [],
    "is_collapsed": false,
    "tags": []
   },
   "source": [
    "## 1.2 Loading from a Database"
   ]
  },
  {
   "cell_type": "markdown",
   "metadata": {
    "cell_id": "418e04613fdc4013b01f7382c2a84c91",
    "deepnote_cell_type": "markdown",
    "tags": []
   },
   "source": [
    "<div class=\"alert alert-block alert-info\">\n",
    "<b><p style=\"color:red;\">Exercice 3 : Load the data from the SQL Database</p></b>\n",
    "You will need the function <b>pandas.read_sql</b> : <a href=\"https://pandas.pydata.org/pandas-docs/stable/reference/api/pandas.read_sql.html\">https://pandas.pydata.org/pandas-docs/stable/reference/api/pandas.read_sql.html</a>\n",
    "\n",
    "\n"
   ]
  },
  {
   "cell_type": "code",
   "execution_count": null,
   "metadata": {
    "cell_id": "b8680fbff2c1493ca06a2f534e23eb46",
    "deepnote_cell_type": "code",
    "deepnote_to_be_reexecuted": false,
    "execution_millis": 370,
    "execution_start": 1632226435568,
    "output_cleared": true,
    "source_hash": "4e27c9a",
    "tags": []
   },
   "outputs": [],
   "source": [
    "import sqlite3\n",
    "\n",
    "# Read sqlite query results into a pandas DataFrame\n",
    "engine = sqlite3.connect(\"Country.db\")\n",
    "sql_request = \"SELECT * from Country\"\n",
    "df_country = pd.read_sql_query(sql_request, engine)\n",
    "engine.close()"
   ]
  },
  {
   "cell_type": "markdown",
   "metadata": {
    "cell_id": "3db3b13a922a4c7d9f02cf055c394201",
    "deepnote_cell_type": "markdown",
    "tags": []
   },
   "source": [
    "🔴IMPORTANT❗🔴 Do not forget to look at your data !"
   ]
  },
  {
   "cell_type": "code",
   "execution_count": null,
   "metadata": {
    "cell_id": "9c1a9207617c4b1fac91ed9a1acaad76",
    "deepnote_cell_type": "code",
    "deepnote_to_be_reexecuted": false,
    "execution_millis": 11,
    "execution_start": 1632226436976,
    "output_cleared": true,
    "source_hash": "e91de80d",
    "tags": []
   },
   "outputs": [],
   "source": [
    "# Verify that result of SQL query is stored in the dataframe\n",
    "df_country.head(2)\n"
   ]
  },
  {
   "cell_type": "markdown",
   "metadata": {
    "cell_id": "46c31bbf651d45549dc3c9e51b8bb26d",
    "deepnote_cell_type": "text-cell-h1",
    "formattedRanges": [],
    "is_collapsed": false,
    "tags": []
   },
   "source": [
    "# 1bis - Analyze and Manipulating Data (Example on client Table)"
   ]
  },
  {
   "cell_type": "markdown",
   "metadata": {
    "cell_id": "fb5b0f1d3bd84138808b776c592a5913",
    "deepnote_cell_type": "text-cell-h2",
    "formattedRanges": [],
    "is_collapsed": false,
    "tags": []
   },
   "source": [
    "## 1bis. 1 Analyze Data"
   ]
  },
  {
   "cell_type": "markdown",
   "metadata": {
    "cell_id": "f07dd5b73dda4c75bbc02e31a9bc61a4",
    "deepnote_cell_type": "markdown",
    "tags": []
   },
   "source": [
    "Get the shape of all the dataframes"
   ]
  },
  {
   "cell_type": "markdown",
   "metadata": {
    "cell_id": "3820f6fb4e2e4e8989685c523d5a0c53",
    "deepnote_cell_type": "markdown",
    "tags": []
   },
   "source": [
    "<div class=\"alert alert-block alert-info\">\n",
    "<b><p style=\"color:red;\">Exercice 4 : Get the size of the Client Table (number of lines and columns)</p></b>"
   ]
  },
  {
   "cell_type": "code",
   "execution_count": null,
   "metadata": {
    "cell_id": "a482187db243475f9bbc4d191f4ffcb0",
    "deepnote_cell_type": "code",
    "deepnote_output_heights": [
     21.078125
    ],
    "deepnote_to_be_reexecuted": false,
    "execution_millis": 0,
    "execution_start": 1632226438632,
    "output_cleared": true,
    "source_hash": "75cc6428",
    "tags": []
   },
   "outputs": [],
   "source": [
    "# Write your code here\n",
    "\n"
   ]
  },
  {
   "cell_type": "markdown",
   "metadata": {
    "cell_id": "f71cfae232854f30994f57bdaecc2a40",
    "deepnote_cell_type": "markdown",
    "tags": []
   },
   "source": [
    "<div class=\"alert alert-block alert-info\">\n",
    "<b><p style=\"color:red;\">Exercice 5 : List all the columns of the Client Table</p></b>"
   ]
  },
  {
   "cell_type": "code",
   "execution_count": null,
   "metadata": {
    "cell_id": "9f8668d0c1b04540859147222a89f59a",
    "deepnote_cell_type": "code",
    "deepnote_output_heights": [
     59.265625
    ],
    "deepnote_to_be_reexecuted": false,
    "execution_millis": 9,
    "execution_start": 1632226439084,
    "output_cleared": true,
    "source_hash": "e2e58312",
    "tags": []
   },
   "outputs": [],
   "source": [
    "# Write your code here\n",
    "\n"
   ]
  },
  {
   "cell_type": "markdown",
   "metadata": {
    "cell_id": "fff83ffc585a4d68a1c36ea2552c2e36",
    "deepnote_cell_type": "markdown",
    "tags": []
   },
   "source": [
    "<div class=\"alert alert-block alert-info\">\n",
    "<b><p style=\"color:red;\">Exercice 6 : Make a description / rapid analysis of the Table</p></b>"
   ]
  },
  {
   "cell_type": "code",
   "execution_count": null,
   "metadata": {
    "cell_id": "27b1f011cec346dcb031acb179b69355",
    "deepnote_cell_type": "code",
    "deepnote_to_be_reexecuted": false,
    "execution_millis": 85,
    "execution_start": 1632226439936,
    "output_cleared": true,
    "source_hash": "17d2c039",
    "tags": []
   },
   "outputs": [],
   "source": [
    "# Write your code here\n"
   ]
  },
  {
   "cell_type": "markdown",
   "metadata": {
    "cell_id": "d4bf1385cc8b408d93ac61352feb2b3d",
    "deepnote_cell_type": "markdown",
    "tags": []
   },
   "source": [
    "<div class=\"alert alert-block alert-info\">\n",
    "<b><p style=\"color:red;\">Exercice 7 : Get the variable type of all columns</p></b>"
   ]
  },
  {
   "cell_type": "code",
   "execution_count": null,
   "metadata": {
    "cell_id": "d87ada1c7260462d94e90b5f6988d23c",
    "deepnote_cell_type": "code",
    "deepnote_output_heights": [
     211.984375
    ],
    "deepnote_to_be_reexecuted": false,
    "execution_millis": 20,
    "execution_start": 1632226442379,
    "output_cleared": true,
    "source_hash": "22f2fc29",
    "tags": []
   },
   "outputs": [],
   "source": [
    "# Write your code here\n"
   ]
  },
  {
   "cell_type": "markdown",
   "metadata": {
    "cell_id": "e104104a318a4a46b14b23253ecf493a",
    "deepnote_cell_type": "markdown",
    "tags": []
   },
   "source": [
    "<div class=\"alert alert-block alert-info\">\n",
    "<b><p style=\"color:red;\">Exercice 8 : Question: Which country has the most number of clients ?</p></b>"
   ]
  },
  {
   "cell_type": "code",
   "execution_count": null,
   "metadata": {
    "cell_id": "82cd1a14c8a341a09744b191e2ed4a4f",
    "deepnote_cell_type": "code",
    "deepnote_output_heights": [
     231.078125
    ],
    "deepnote_to_be_reexecuted": false,
    "execution_millis": 8,
    "execution_start": 1632226444625,
    "output_cleared": true,
    "source_hash": "e687ce77",
    "tags": []
   },
   "outputs": [],
   "source": [
    "# Write your code here\n",
    "\n"
   ]
  },
  {
   "cell_type": "markdown",
   "metadata": {
    "cell_id": "f824b7ba923b407e8fd3b54445cdd9d2",
    "deepnote_cell_type": "markdown",
    "tags": []
   },
   "source": [
    "<div class=\"alert alert-block alert-info\">\n",
    "<b><p style=\"color:red;\">Exercice 9 : Indexing: select the 1st line</p></b>"
   ]
  },
  {
   "cell_type": "code",
   "execution_count": null,
   "metadata": {
    "cell_id": "160371713f564accbb77694269c6c651",
    "deepnote_cell_type": "code",
    "deepnote_output_heights": [
     211.984375
    ],
    "deepnote_to_be_reexecuted": false,
    "execution_millis": 13,
    "execution_start": 1632226446795,
    "output_cleared": true,
    "source_hash": "9114ec34",
    "tags": []
   },
   "outputs": [],
   "source": [
    "# Write your code here\n",
    "\n"
   ]
  },
  {
   "cell_type": "markdown",
   "metadata": {
    "cell_id": "adec2c9066054ca2ab4fd28b583ff6e5",
    "deepnote_cell_type": "markdown",
    "tags": []
   },
   "source": [
    "<div class=\"alert alert-block alert-info\">\n",
    "<b><p style=\"color:red;\">Exercice 10 : Select the 1st and 2nd line</p></b>"
   ]
  },
  {
   "cell_type": "code",
   "execution_count": null,
   "metadata": {
    "cell_id": "14bbf8d3ee4442eda6a9dcd229b46c84",
    "deepnote_cell_type": "code",
    "deepnote_to_be_reexecuted": false,
    "execution_millis": 16,
    "execution_start": 1632226448770,
    "output_cleared": true,
    "source_hash": "9aed517a",
    "tags": []
   },
   "outputs": [],
   "source": [
    "# Write your code here\n",
    "\n"
   ]
  },
  {
   "cell_type": "markdown",
   "metadata": {
    "cell_id": "c0479e0c66a2488380e78c6d5ad95d46",
    "deepnote_cell_type": "markdown",
    "tags": []
   },
   "source": [
    "<div class=\"alert alert-block alert-info\">\n",
    "<b><p style=\"color:red;\">Exercice 11 : What is the customerID and the gender of the only person living in Guadeloupe ? </p></b>"
   ]
  },
  {
   "cell_type": "code",
   "execution_count": null,
   "metadata": {
    "cell_id": "2304a03eb31c4d96b293913e603220c0",
    "deepnote_cell_type": "code",
    "deepnote_to_be_reexecuted": false,
    "execution_millis": 8,
    "execution_start": 1632226450791,
    "output_cleared": true,
    "source_hash": "2d4d1d23",
    "tags": []
   },
   "outputs": [],
   "source": [
    "# Write your code here\n",
    "\n",
    "# Extract guadeloupe people\n",
    "\n",
    "\n",
    "# get the email adress\n",
    "\n"
   ]
  },
  {
   "cell_type": "markdown",
   "metadata": {
    "cell_id": "6afc9fb8951f4acea3a0ca060cf5100e",
    "deepnote_cell_type": "markdown",
    "tags": []
   },
   "source": [
    "<div class=\"alert alert-block alert-info\">\n",
    "<b><p style=\"color:red;\">Exercice 12 : Count the number of male and female in the Client Table</p></b>"
   ]
  },
  {
   "cell_type": "code",
   "execution_count": null,
   "metadata": {
    "cell_id": "96dfbde3b5f04a73a411b753ef15294d",
    "deepnote_cell_type": "code",
    "deepnote_to_be_reexecuted": false,
    "execution_millis": 2,
    "execution_start": 1632226456042,
    "output_cleared": true,
    "source_hash": "37ac728b",
    "tags": []
   },
   "outputs": [],
   "source": [
    "# Write your code here\n",
    "\n"
   ]
  },
  {
   "cell_type": "markdown",
   "metadata": {
    "cell_id": "1a25a48e7311473fab118ca3b6825197",
    "deepnote_cell_type": "text-cell-h1",
    "formattedRanges": [],
    "is_collapsed": false,
    "tags": []
   },
   "source": [
    "# 2 - Data Processing: Join / Concatenate"
   ]
  },
  {
   "cell_type": "markdown",
   "metadata": {
    "cell_id": "9c894665297a462fb2e2dc9689d21aeb",
    "deepnote_cell_type": "text-cell-h2",
    "formattedRanges": [],
    "is_collapsed": false,
    "tags": []
   },
   "source": [
    "## 2.1 Concatenate"
   ]
  },
  {
   "cell_type": "markdown",
   "metadata": {
    "cell_id": "7079bdb15c4640c39fe01a8adf397de8",
    "deepnote_cell_type": "markdown",
    "tags": []
   },
   "source": [
    "<div class=\"alert alert-block alert-info\">\n",
    "<b><p style=\"color:red;\">Exercice 13: Concatenate/Union of the 3 Sales Table</p></b>\n",
    "Concatenate the tables <b>df_vente_part1, df_vente_part2 and df_vente_part3</b> together into 1 table. <br>\n",
    "You will need the function <b>pandas.concat</b> : <a href=\"https://pandas.pydata.org/docs/reference/api/pandas.concat.html\">https://pandas.pydata.org/docs/reference/api/pandas.concat.html</a> <br>\n",
    "We advice that you look at your data shape first, concatenate your tables, and check at the end your shape\n"
   ]
  },
  {
   "cell_type": "code",
   "execution_count": null,
   "metadata": {
    "cell_id": "2a69c3d96ffb41edb6fc733edb790de5",
    "deepnote_cell_type": "code",
    "deepnote_to_be_reexecuted": false,
    "execution_millis": 6,
    "execution_start": 1632226493700,
    "is_output_hidden": false,
    "output_cleared": true,
    "source_hash": "6e6f32eb",
    "tags": []
   },
   "outputs": [],
   "source": [
    "# Write your code here\n",
    "\n",
    "\n",
    "\n"
   ]
  },
  {
   "cell_type": "code",
   "execution_count": null,
   "metadata": {
    "cell_id": "68d1819e856d4ed6aa35d9ae7f5c1699",
    "deepnote_cell_type": "code",
    "deepnote_to_be_reexecuted": false,
    "execution_millis": 0,
    "execution_start": 1632226664918,
    "output_cleared": true,
    "source_hash": "7dff4e2e",
    "tags": []
   },
   "outputs": [],
   "source": [
    "# create a list of all the sales\n"
   ]
  },
  {
   "cell_type": "markdown",
   "metadata": {
    "cell_id": "7272869017fd4722bc6f24ff99a96409",
    "deepnote_cell_type": "text-cell-h2",
    "formattedRanges": [],
    "is_collapsed": false,
    "tags": []
   },
   "source": [
    "## 2.2 Join"
   ]
  },
  {
   "cell_type": "markdown",
   "metadata": {
    "cell_id": "6840c2702c474ff0b46f7bf8bb2b306b",
    "deepnote_cell_type": "text-cell-h3",
    "formattedRanges": [],
    "is_collapsed": false,
    "tags": []
   },
   "source": [
    "### 2.2.1 Merging Sales and Client datasets"
   ]
  },
  {
   "cell_type": "markdown",
   "metadata": {
    "cell_id": "f44957aa7f2546ef8ca07b148a5f5d51",
    "deepnote_cell_type": "markdown",
    "tags": []
   },
   "source": [
    "<div class=\"alert alert-block alert-info\">\n",
    "<b><p style=\"color:red;\">Exercice 14: Understand the steps of merging table</p></b>\n",
    "Try to understand the steps of merging data together. <br>\n",
    "The following code allows to merge the tables <b>Sales</b> with <b>Client</b> together into 1 table. <br>\n",
    "You will need the function <b>pandas.merge</b> : <a href=\"https://pandas.pydata.org/docs/reference/api/pandas.merge.html\">https://pandas.pydata.org/docs/reference/api/pandas.merge.html</a> <br>\n",
    "We advice that you look at your data shape first, merge your tables, and check at the end your shape\n"
   ]
  },
  {
   "cell_type": "code",
   "execution_count": null,
   "metadata": {
    "cell_id": "0f3f84e0e2954a3195f3819a7795dae2",
    "deepnote_cell_type": "code",
    "deepnote_to_be_reexecuted": false,
    "execution_millis": 8,
    "execution_start": 1632226919412,
    "output_cleared": true,
    "source_hash": "e2cfcda5",
    "tags": []
   },
   "outputs": [],
   "source": [
    "# Let's make a check on the size of the dataframes before merging\n",
    "\n"
   ]
  },
  {
   "cell_type": "code",
   "execution_count": null,
   "metadata": {
    "cell_id": "c61f4f3a51a34d4e9e02181ede567af3",
    "deepnote_cell_type": "code",
    "deepnote_output_heights": [
     116.53125
    ],
    "deepnote_to_be_reexecuted": false,
    "execution_millis": 14,
    "execution_start": 1632227054157,
    "output_cleared": true,
    "source_hash": "e261c2ca",
    "tags": []
   },
   "outputs": [],
   "source": [
    "# Write your code here : list the columns of df_vente\n"
   ]
  },
  {
   "cell_type": "code",
   "execution_count": null,
   "metadata": {
    "cell_id": "3dbf1aa1db7d4ddab81315f04c714dc6",
    "deepnote_cell_type": "code",
    "deepnote_output_heights": [
     192.890625
    ],
    "deepnote_to_be_reexecuted": false,
    "execution_millis": 17,
    "execution_start": 1632227071693,
    "output_cleared": true,
    "source_hash": "bb9cb403",
    "tags": []
   },
   "outputs": [],
   "source": [
    "# Write your code here : list the columns of df_client\n",
    "\n"
   ]
  },
  {
   "cell_type": "code",
   "execution_count": null,
   "metadata": {
    "cell_id": "8825d48ce16049ffa7c7daeadd4c4ba0",
    "deepnote_cell_type": "code",
    "deepnote_to_be_reexecuted": false,
    "execution_millis": 0,
    "execution_start": 1632227979386,
    "output_cleared": true,
    "source_hash": "34d7b38b",
    "tags": []
   },
   "outputs": [],
   "source": [
    "# Merge the 2 dataframes\n"
   ]
  },
  {
   "cell_type": "code",
   "execution_count": null,
   "metadata": {
    "cell_id": "8c46cd883eb04dcba43466c53bc4475e",
    "deepnote_cell_type": "code",
    "deepnote_to_be_reexecuted": false,
    "execution_millis": 10,
    "execution_start": 1632227981338,
    "is_output_hidden": false,
    "output_cleared": true,
    "source_hash": "827f04f2",
    "tags": []
   },
   "outputs": [],
   "source": [
    "# let's have a look at the data\n",
    "\n"
   ]
  },
  {
   "cell_type": "markdown",
   "metadata": {
    "cell_id": "6e0310810e9a438c9eb6df016cb2388f",
    "deepnote_cell_type": "text-cell-h3",
    "formattedRanges": [],
    "is_collapsed": false,
    "tags": []
   },
   "source": [
    "### 2.2.2 Merging Vente/Client with the Country datasets"
   ]
  },
  {
   "cell_type": "markdown",
   "metadata": {
    "cell_id": "81cc2aff07aa47468e065d16d66d6306",
    "deepnote_cell_type": "markdown",
    "tags": []
   },
   "source": [
    "<div class=\"alert alert-block alert-info\">\n",
    "<b><p style=\"color:red;\">Exercice 15: Your turn: Merge the obtained previous Table with the Country Table</p></b>\n",
    "The following code allows to merge the tables <b>Sales</b> with <b>Country</b> together into 1 table. <br>\n",
    "You will need the function <b>pandas.merge</b> : <a href=\"https://pandas.pydata.org/docs/reference/api/pandas.merge.html\">https://pandas.pydata.org/docs/reference/api/pandas.merge.html</a> <br>\n",
    "We advice that you look at your data shape first, merge your tables, and check at the end your shape\n"
   ]
  },
  {
   "cell_type": "code",
   "execution_count": null,
   "metadata": {
    "cell_id": "d349f9d1a34f4ffc839ca5beae130082",
    "deepnote_cell_type": "code",
    "deepnote_to_be_reexecuted": false,
    "execution_millis": 9,
    "execution_start": 1632228099284,
    "output_cleared": true,
    "source_hash": "f83f6d4a",
    "tags": []
   },
   "outputs": [],
   "source": [
    "# Write your code here : Get the shape of the table\n",
    "\n"
   ]
  },
  {
   "cell_type": "code",
   "execution_count": null,
   "metadata": {
    "cell_id": "a4566e85135a45fcb85d04fb344a9d60",
    "deepnote_cell_type": "code",
    "deepnote_output_heights": [
     97.4375
    ],
    "deepnote_to_be_reexecuted": false,
    "execution_millis": 11,
    "execution_start": 1632228140077,
    "output_cleared": true,
    "source_hash": "9656e54a",
    "tags": []
   },
   "outputs": [],
   "source": [
    "# Write your code here : list the columns of df_vdf_country\n",
    "\n"
   ]
  },
  {
   "cell_type": "code",
   "execution_count": null,
   "metadata": {
    "cell_id": "ef4914d195a54310b2d962613bff442b",
    "deepnote_cell_type": "code",
    "deepnote_to_be_reexecuted": false,
    "execution_millis": 7,
    "execution_start": 1632228465164,
    "output_cleared": true,
    "source_hash": "32553caf",
    "tags": []
   },
   "outputs": [],
   "source": [
    "# Write your code here : Merge the dataframe\n"
   ]
  },
  {
   "cell_type": "code",
   "execution_count": null,
   "metadata": {
    "cell_id": "8e2fa03ca3a24e5b8308bf34b181ed8f",
    "deepnote_cell_type": "code",
    "deepnote_output_heights": [
     21.078125
    ],
    "deepnote_to_be_reexecuted": false,
    "execution_millis": 43,
    "execution_start": 1632228465934,
    "output_cleared": true,
    "source_hash": "417e2409",
    "tags": []
   },
   "outputs": [],
   "source": [
    "# Write your code here : check the size of the merged table\n",
    "\n"
   ]
  },
  {
   "cell_type": "code",
   "execution_count": null,
   "metadata": {
    "cell_id": "240305a9682243ef98227a189819e852",
    "deepnote_cell_type": "code",
    "deepnote_to_be_reexecuted": false,
    "execution_millis": 124,
    "execution_start": 1632228486921,
    "is_output_hidden": false,
    "output_cleared": true,
    "source_hash": "f7058ce1",
    "tags": []
   },
   "outputs": [],
   "source": [
    "# Write your code here : look at your table\n",
    "\n"
   ]
  },
  {
   "cell_type": "markdown",
   "metadata": {
    "cell_id": "96dc655213ea4bcda3c78e0d4b21a198",
    "deepnote_cell_type": "text-cell-h1",
    "formattedRanges": [],
    "is_collapsed": false,
    "tags": []
   },
   "source": [
    "# 2bis - Analyze and Manipulating Data (Final Table)"
   ]
  },
  {
   "cell_type": "markdown",
   "metadata": {
    "cell_id": "22177516d62a4f39930a4c82057a0ce2",
    "deepnote_cell_type": "markdown",
    "tags": []
   },
   "source": [
    "<div class=\"alert alert-block alert-info\">\n",
    "<b><p style=\"color:red;\">Exercice 16: How many tshirt were sold ?</p></b>"
   ]
  },
  {
   "cell_type": "code",
   "execution_count": null,
   "metadata": {
    "cell_id": "d0239240075741ad9c2af9dd97d22a6e",
    "deepnote_cell_type": "code",
    "deepnote_output_heights": [
     21.078125
    ],
    "deepnote_to_be_reexecuted": false,
    "execution_millis": 19,
    "execution_start": 1632228624212,
    "output_cleared": true,
    "source_hash": "4a54454f",
    "tags": []
   },
   "outputs": [],
   "source": [
    "# Write your code here\n",
    "\n"
   ]
  },
  {
   "cell_type": "markdown",
   "metadata": {
    "cell_id": "e15b5b382d7d4e29b3677b304e9e09d0",
    "deepnote_cell_type": "markdown",
    "tags": []
   },
   "source": [
    "<div class=\"alert alert-block alert-info\">\n",
    "<b><p style=\"color:red;\">Exercice 17: Who are the Top 3 that makes the most number of orders ?</p></b>"
   ]
  },
  {
   "cell_type": "code",
   "execution_count": null,
   "metadata": {
    "cell_id": "6ef8f50036074d2e9e9305cacf6ee11d",
    "deepnote_cell_type": "code",
    "deepnote_output_heights": [
     78.34375
    ],
    "deepnote_to_be_reexecuted": false,
    "execution_millis": 17,
    "execution_start": 1632228854674,
    "output_cleared": true,
    "source_hash": "e6b0223d",
    "tags": []
   },
   "outputs": [],
   "source": [
    "# Write your code here\n",
    "\n"
   ]
  },
  {
   "cell_type": "markdown",
   "metadata": {
    "cell_id": "a06a278fc66b4fafa039c3186f6d405e",
    "deepnote_cell_type": "markdown",
    "tags": []
   },
   "source": [
    "<div class=\"alert alert-block alert-info\">\n",
    "<b><p style=\"color:red;\">Exercice 18: Compute the sales = tshirt price x tshirt quantity</p></b>\n",
    "\n",
    "\n"
   ]
  },
  {
   "cell_type": "code",
   "execution_count": null,
   "metadata": {
    "cell_id": "adcd0141d1f94f8c961c9a56011431bb",
    "deepnote_cell_type": "code",
    "deepnote_to_be_reexecuted": false,
    "execution_millis": 4,
    "execution_start": 1632229056262,
    "output_cleared": true,
    "source_hash": "1cd127ae",
    "tags": []
   },
   "outputs": [],
   "source": [
    "# Write your code here\n",
    "\n"
   ]
  },
  {
   "cell_type": "code",
   "execution_count": null,
   "metadata": {
    "cell_id": "8a56d00b06ba4472845afafa01244d49",
    "deepnote_cell_type": "code",
    "deepnote_output_heights": [
     21.078125
    ],
    "deepnote_to_be_reexecuted": false,
    "execution_millis": 13,
    "execution_start": 1632229085151,
    "output_cleared": true,
    "source_hash": "eaa5edbc",
    "tags": []
   },
   "outputs": [],
   "source": [
    "# Write your code here : check with only the 3 columns\n",
    "\n"
   ]
  },
  {
   "cell_type": "markdown",
   "metadata": {
    "cell_id": "9844c71f007041dfa860517d70f638ce",
    "deepnote_cell_type": "markdown",
    "tags": []
   },
   "source": [
    "<div class=\"alert alert-block alert-info\">\n",
    "<b><p style=\"color:red;\">Exercice 19: Which category of tshirt has the most number of orders ? What do you observe ?</p></b>\n",
    "\n",
    "\n"
   ]
  },
  {
   "cell_type": "code",
   "execution_count": null,
   "metadata": {
    "cell_id": "90d628c83fa348ab96ef932eb2bfb1be",
    "deepnote_cell_type": "code",
    "deepnote_output_heights": [
     211.984375
    ],
    "deepnote_to_be_reexecuted": false,
    "execution_millis": 13,
    "execution_start": 1632229817993,
    "output_cleared": true,
    "source_hash": "abf3f100",
    "tags": []
   },
   "outputs": [],
   "source": [
    "# Write your code here\n",
    "\n"
   ]
  },
  {
   "cell_type": "markdown",
   "metadata": {
    "cell_id": "a645408b5841453aa47a7f440cbf3c6e",
    "deepnote_cell_type": "text-cell-h1",
    "formattedRanges": [],
    "is_collapsed": false,
    "tags": []
   },
   "source": [
    "# 3 - Data Manipulation : Data Standardization"
   ]
  },
  {
   "cell_type": "markdown",
   "metadata": {
    "cell_id": "85e95389c89f4ef7939ed1c891e841ef",
    "deepnote_cell_type": "text-cell-h2",
    "formattedRanges": [],
    "is_collapsed": false,
    "tags": []
   },
   "source": [
    "## 3.1 Categorical Standardization"
   ]
  },
  {
   "cell_type": "markdown",
   "metadata": {
    "cell_id": "d2e8ddbd5dc243eabdcf295eae943691",
    "deepnote_cell_type": "markdown",
    "tags": []
   },
   "source": [
    "<div class=\"alert alert-block alert-info\">\n",
    "<b><p style=\"color:red;\">Exercice 20: Standardized the column t-shirt category</p></b>\n",
    "Standardize the column <b>tshirt_category</b> by replacing the values. <br>\n",
    "You will need the function <b>pandas.replace</b> : <a href=\"https://pandas.pydata.org/docs/reference/api/pandas.DataFrame.replace.html\">https://pandas.pydata.org/docs/reference/api/pandas.DataFrame.replace.html</a> <br>\n",
    "We advice that you look at your data shape first, merge your tables, and check at the end your shape\n"
   ]
  },
  {
   "cell_type": "code",
   "execution_count": null,
   "metadata": {
    "cell_id": "15fc1a66a6024a6fbbced8ed9f9a1441",
    "deepnote_cell_type": "code",
    "deepnote_output_heights": [
     211.984375
    ],
    "deepnote_to_be_reexecuted": false,
    "execution_millis": 9,
    "execution_start": 1632230340302,
    "is_output_hidden": false,
    "output_cleared": true,
    "source_hash": "f79e4910",
    "tags": []
   },
   "outputs": [],
   "source": [
    "# Look at the data\n",
    "df_final[\"tshirt_category\"].value_counts()\n"
   ]
  },
  {
   "cell_type": "code",
   "execution_count": null,
   "metadata": {
    "allow_embed": "code_output",
    "cell_id": "db11d29d6e614c0c8f2b41f936e9b65d",
    "deepnote_cell_type": "code",
    "deepnote_to_be_reexecuted": false,
    "execution_millis": 0,
    "execution_start": 1632230438314,
    "is_output_hidden": false,
    "output_cleared": true,
    "source_hash": "4db569d1",
    "tags": []
   },
   "outputs": [],
   "source": [
    "# Analyze the Frequencies of the categorical column\n",
    "\n",
    "df_final[\"tshirt_category\"] = df_final[\"tshirt_category\"].replace({\"Wh Tshirt M\": White T-Shirt M})"
   ]
  },
  {
   "cell_type": "code",
   "execution_count": null,
   "metadata": {
    "cell_id": "78e1ca4845e5453a85820cc629644a47",
    "deepnote_cell_type": "code",
    "deepnote_to_be_reexecuted": false,
    "execution_millis": 3,
    "execution_start": 1631610697941,
    "is_output_hidden": false,
    "output_cleared": true,
    "source_hash": "991bf51e",
    "tags": []
   },
   "outputs": [],
   "source": [
    "# Replace the values \n",
    "\n"
   ]
  },
  {
   "cell_type": "code",
   "execution_count": null,
   "metadata": {
    "cell_id": "372449d4861746a6bddfde554f7986e2",
    "deepnote_cell_type": "code",
    "deepnote_to_be_reexecuted": false,
    "execution_millis": 3,
    "execution_start": 1631610702171,
    "is_output_hidden": false,
    "output_cleared": true,
    "source_hash": "825f4042",
    "tags": []
   },
   "outputs": [],
   "source": [
    "# Look at the result\n"
   ]
  },
  {
   "cell_type": "code",
   "execution_count": null,
   "metadata": {
    "cell_id": "836613f2fe1e478ba1a653a86b487812",
    "deepnote_cell_type": "code",
    "deepnote_to_be_reexecuted": false,
    "execution_millis": 1,
    "execution_start": 1631610705709,
    "output_cleared": true,
    "source_hash": "959aae93",
    "tags": []
   },
   "outputs": [],
   "source": [
    "# Answer to the original question\n"
   ]
  },
  {
   "cell_type": "markdown",
   "metadata": {
    "cell_id": "650cad9adb454e9187312a665233376e",
    "deepnote_cell_type": "text-cell-h2",
    "formattedRanges": [],
    "is_collapsed": false,
    "tags": []
   },
   "source": [
    "## 3.2 Numeric Standardization"
   ]
  },
  {
   "cell_type": "markdown",
   "metadata": {
    "cell_id": "d99931de33334a50a1c1c96665d97784",
    "deepnote_cell_type": "markdown",
    "tags": []
   },
   "source": [
    "<div class=\"alert alert-block alert-info\">\n",
    "<b><p style=\"color:red;\">Exercice 21: Standardized the column pages_visited</p></b>\n",
    "Standardize the column <b>pages_visited</b> by using a min/max normalization. <br>\n",
    "You will need the function <b>sklearn.preprocessing.MinMaxScaler</b> : <a href=\"https://scikit-learn.org/stable/modules/generated/sklearn.preprocessing.MinMaxScaler.html\">https://scikit-learn.org/stable/modules/generated/sklearn.preprocessing.MinMaxScaler.html</a> <br>\n"
   ]
  },
  {
   "cell_type": "code",
   "execution_count": null,
   "metadata": {
    "cell_id": "ec2313fce5ae4d2b89304f5a5529cfe2",
    "deepnote_cell_type": "code",
    "deepnote_to_be_reexecuted": false,
    "execution_millis": 127,
    "execution_start": 1629807420529,
    "is_output_hidden": false,
    "output_cleared": true,
    "source_hash": "b30b9611",
    "tags": []
   },
   "outputs": [],
   "source": [
    "import pandas as pd\n",
    "from sklearn import preprocessing\n",
    "\n",
    "x = df_final[\"pages_visited\"].values.reshape(-1, 1) #returns a numpy array\n",
    "min_max_scaler = preprocessing.MinMaxScaler()\n",
    "x_scaled = min_max_scaler.fit_transform(x)\n",
    "df_final[\"pages_visited\"] = pd.DataFrame(x_scaled)\n",
    "\n",
    "df_final"
   ]
  },
  {
   "cell_type": "markdown",
   "metadata": {
    "cell_id": "512697f7cc514d058b891afe8d908eeb",
    "deepnote_cell_type": "text-cell-h1",
    "formattedRanges": [],
    "is_collapsed": false,
    "tags": []
   },
   "source": [
    "# 4 - Data Manipulation : Label Encoding"
   ]
  },
  {
   "cell_type": "markdown",
   "metadata": {
    "cell_id": "2e017f8977434f42bb47e3ccf4050f8e",
    "deepnote_cell_type": "markdown",
    "tags": []
   },
   "source": [
    "<div class=\"alert alert-block alert-info\">\n",
    "<b><p style=\"color:red;\">Exercice 22: Encode the column t-shirt category</p></b>\n",
    "Encode the column <b>tshirt_category</b> by replacing the values. <br>\n",
    "You will need the function <b>sklearn.preprocessing.LabelEncoder</b> : <a href=\"https://scikit-learn.org/stable/modules/generated/sklearn.preprocessing.LabelEncoder.html?highlight=label%20encoder#sklearn.preprocessing.LabelEncoder\">https://scikit-learn.org/stable/modules/generated/sklearn.preprocessing.LabelEncoder.html?highlight=label%20encoder#sklearn.preprocessing.LabelEncoder</a> <br>\n",
    "We advice that you look at your data shape first, merge your tables, and check at the end your shape\n"
   ]
  },
  {
   "cell_type": "code",
   "execution_count": null,
   "metadata": {
    "cell_id": "bf68a9b376434f0186b98cd83a4cc98f",
    "deepnote_cell_type": "code",
    "deepnote_to_be_reexecuted": false,
    "execution_millis": 77,
    "execution_start": 1629809052153,
    "is_output_hidden": true,
    "output_cleared": true,
    "source_hash": "2b824ecb",
    "tags": []
   },
   "outputs": [],
   "source": [
    "# Look at the data\n",
    "df_final"
   ]
  },
  {
   "cell_type": "code",
   "execution_count": null,
   "metadata": {
    "cell_id": "4bb420e4997a46a0a587b48753976153",
    "deepnote_cell_type": "code",
    "deepnote_to_be_reexecuted": false,
    "execution_millis": 2,
    "execution_start": 1629809052564,
    "output_cleared": true,
    "source_hash": "16ee3bd5",
    "tags": []
   },
   "outputs": [],
   "source": [
    "# importing the Dependencies\n",
    "import pandas as pd\n",
    "from sklearn.preprocessing import LabelEncoder\n",
    "\n",
    "# load the Label Encoder function\n",
    "label_encode = LabelEncoder()\n",
    "\n",
    "labels = label_encode.fit_transform(df_final[\"tshirt_category\"])\n",
    "\n",
    "# appending the labels to the DataFrame\n",
    "df_final[\"tshirt_category\"] = labels"
   ]
  },
  {
   "cell_type": "code",
   "execution_count": null,
   "metadata": {
    "cell_id": "e64f87803a5949598364c5e2dd58ea3b",
    "deepnote_cell_type": "code",
    "deepnote_output_heights": [
     21.078125
    ],
    "deepnote_to_be_reexecuted": false,
    "execution_millis": 18,
    "execution_start": 1629809053419,
    "output_cleared": true,
    "source_hash": "b1170ddd",
    "tags": []
   },
   "outputs": [],
   "source": [
    "# Look at the correspondance\n",
    "label_encode.classes_"
   ]
  },
  {
   "cell_type": "code",
   "execution_count": null,
   "metadata": {
    "cell_id": "b5b6910170624590a03b661801b7e6ad",
    "deepnote_cell_type": "code",
    "deepnote_to_be_reexecuted": false,
    "execution_millis": 132,
    "execution_start": 1629809054187,
    "is_output_hidden": true,
    "output_cleared": true,
    "source_hash": "2b824ecb",
    "tags": []
   },
   "outputs": [],
   "source": [
    "# Look at the data\n",
    "df_final"
   ]
  },
  {
   "cell_type": "markdown",
   "metadata": {
    "cell_id": "500c826378994e399d5d6b60e01750c6",
    "deepnote_cell_type": "text-cell-h1",
    "formattedRanges": [],
    "is_collapsed": false,
    "tags": []
   },
   "source": [
    "# 5 - Exporting the data"
   ]
  },
  {
   "cell_type": "markdown",
   "metadata": {
    "cell_id": "8bc87babad134433805786d5aa22f6dd",
    "deepnote_cell_type": "markdown",
    "tags": []
   },
   "source": [
    "The general documentation to export dataframe in Python can be found here: https://pandas.pydata.org/docs/reference/frame.html"
   ]
  },
  {
   "cell_type": "markdown",
   "metadata": {
    "cell_id": "6b2fcca1f69f44d8acf05ba30059febc",
    "deepnote_cell_type": "markdown",
    "tags": []
   },
   "source": [
    "<div class=\"alert alert-block alert-info\">\n",
    "<b><p style=\"color:red;\">Exercice 23: Export the data in Excel</p></b>\n",
    "You will need the function <b>pandas.DataFrame.to_excel</b> : <a href=\"https://pandas.pydata.org/docs/reference/api/pandas.DataFrame.to_excel.html\">https://pandas.pydata.org/docs/reference/api/pandas.DataFrame.to_excel.html</a> <br>\n",
    "Tips: Be careful to the index inserted by default\n"
   ]
  },
  {
   "cell_type": "code",
   "execution_count": null,
   "metadata": {
    "cell_id": "4dab896c4b3247fa8d45c1ad410423fe",
    "deepnote_cell_type": "code",
    "deepnote_to_be_reexecuted": false,
    "execution_millis": 0,
    "execution_start": 1631610725011,
    "output_cleared": true,
    "source_hash": "b623e53d",
    "tags": []
   },
   "outputs": [],
   "source": []
  },
  {
   "cell_type": "markdown",
   "metadata": {
    "cell_id": "5650afd96cf441c088aecc153f90d983",
    "deepnote_cell_type": "markdown",
    "tags": []
   },
   "source": [
    "<div class=\"alert alert-block alert-info\">\n",
    "<b><p style=\"color:red;\">Exercice 24: Export the data in CSV</p></b>\n",
    "You will need the function <b>pandas.DataFrame.to_excel</b> : <a href=\"https://pandas.pydata.org/docs/reference/api/pandas.DataFrame.to_csv.html\">https://pandas.pydata.org/docs/reference/api/pandas.DataFrame.to_csv.html</a> <br>\n",
    "Tips: Be careful to the index inserted by default\n"
   ]
  },
  {
   "cell_type": "code",
   "execution_count": null,
   "metadata": {
    "cell_id": "5fc6365f9ed443d9b3cfe3c14aa4647c",
    "deepnote_cell_type": "code",
    "deepnote_to_be_reexecuted": false,
    "execution_millis": 1,
    "execution_start": 1631610728904,
    "output_cleared": true,
    "source_hash": "b623e53d",
    "tags": []
   },
   "outputs": [],
   "source": []
  },
  {
   "cell_type": "markdown",
   "metadata": {
    "created_in_deepnote_cell": true,
    "deepnote_cell_type": "markdown"
   },
   "source": [
    "<a style='text-decoration:none;line-height:16px;display:flex;color:#5B5B62;padding:10px;justify-content:end;' href='https://deepnote.com?utm_source=created-in-deepnote-cell&projectId=56a7129a-8739-4cf5-bc38-2ffeb49fc7a2' target=\"_blank\">\n",
    "<img alt='Created in deepnote.com' style='display:inline;max-height:16px;margin:0px;margin-right:7.5px;' src='data:image/svg+xml;base64,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' > </img>\n",
    "Created in <span style='font-weight:600;margin-left:4px;'>Deepnote</span></a>"
   ]
  }
 ],
 "metadata": {
  "deepnote": {
   "is_reactive": false
  },
  "deepnote_execution_queue": [],
  "deepnote_notebook_id": "496e6777695f441c9ae9ae223085ea36",
  "kernelspec": {
   "display_name": "Python 3",
   "language": "python",
   "name": "python3"
  },
  "language_info": {
   "codemirror_mode": {
    "name": "ipython",
    "version": 3
   },
   "file_extension": ".py",
   "mimetype": "text/x-python",
   "name": "python",
   "nbconvert_exporter": "python",
   "pygments_lexer": "ipython3",
   "version": "3.8.8"
  }
 },
 "nbformat": 4,
 "nbformat_minor": 1
}
